{
 "cells": [
  {
   "cell_type": "code",
   "execution_count": 7,
   "id": "4af209f1-5c47-4bc3-94d7-6afa55ff827e",
   "metadata": {},
   "outputs": [
    {
     "name": "stdout",
     "output_type": "stream",
     "text": [
      "Loaded cleaned reviews: (50000, 4)\n",
      "X_reviews: (50000, 115)\n",
      "y_reviews value counts:\n",
      " sentiment\n",
      "negative    16840\n",
      "positive    16777\n",
      "neutral     16383\n",
      "Name: count, dtype: int64\n"
     ]
    }
   ],
   "source": [
    "import pickle\n",
    "\n",
    "# 1) Load the cleaned DataFrame\n",
    "with open('../data/df_bike_clean.pkl', 'rb') as f:\n",
    "    df_bike = pickle.load(f)\n",
    "print(\"Loaded cleaned reviews:\", df_bike.shape)\n",
    "\n",
    "# 2) Load your TF–IDF features and labels\n",
    "with open('../data/X_reviews.pkl', 'rb') as f:\n",
    "    X_reviews = pickle.load(f)\n",
    "with open('../data/y_reviews.pkl', 'rb') as f:\n",
    "    y_reviews = pickle.load(f)\n",
    "\n",
    "print(\"X_reviews:\", X_reviews.shape)\n",
    "print(\"y_reviews value counts:\\n\", y_reviews.value_counts())\n",
    "\n"
   ]
  },
  {
   "cell_type": "code",
   "execution_count": 8,
   "id": "5b2f7599-7261-473e-b93e-3fd1365a35cb",
   "metadata": {},
   "outputs": [
    {
     "name": "stdout",
     "output_type": "stream",
     "text": [
      "Train set: (40000, 115) (40000,)\n",
      "Test  set: (10000, 115) (10000,)\n"
     ]
    }
   ],
   "source": [
    "from sklearn.model_selection import train_test_split\n",
    "\n",
    "X_train, X_test, y_train, y_test = train_test_split(\n",
    "    X_reviews,\n",
    "    y_reviews,\n",
    "    test_size=0.2,\n",
    "    stratify=y_reviews,\n",
    "    random_state=42\n",
    ")\n",
    "\n",
    "print(\"Train set:\", X_train.shape, y_train.shape)\n",
    "print(\"Test  set:\", X_test.shape,  y_test.shape)\n"
   ]
  },
  {
   "cell_type": "code",
   "execution_count": 9,
   "id": "91897954-0ab1-4a5b-8959-73eed6fe8b20",
   "metadata": {},
   "outputs": [
    {
     "name": "stdout",
     "output_type": "stream",
     "text": [
      "=== Logistic Regression ===\n",
      "              precision    recall  f1-score   support\n",
      "\n",
      "    negative       1.00      1.00      1.00      3368\n",
      "     neutral       1.00      1.00      1.00      3277\n",
      "    positive       1.00      1.00      1.00      3355\n",
      "\n",
      "    accuracy                           1.00     10000\n",
      "   macro avg       1.00      1.00      1.00     10000\n",
      "weighted avg       1.00      1.00      1.00     10000\n",
      "\n",
      "Confusion Matrix:\n",
      " [[3368    0    0]\n",
      " [   0 3277    0]\n",
      " [   0    0 3355]]\n",
      "\n",
      "=== Multinomial Naïve Bayes ===\n",
      "              precision    recall  f1-score   support\n",
      "\n",
      "    negative       1.00      1.00      1.00      3368\n",
      "     neutral       1.00      1.00      1.00      3277\n",
      "    positive       1.00      1.00      1.00      3355\n",
      "\n",
      "    accuracy                           1.00     10000\n",
      "   macro avg       1.00      1.00      1.00     10000\n",
      "weighted avg       1.00      1.00      1.00     10000\n",
      "\n",
      "Confusion Matrix:\n",
      " [[3368    0    0]\n",
      " [   0 3277    0]\n",
      " [   0    0 3355]]\n"
     ]
    }
   ],
   "source": [
    "from sklearn.linear_model  import LogisticRegression\n",
    "from sklearn.naive_bayes   import MultinomialNB\n",
    "from sklearn.metrics       import classification_report, confusion_matrix\n",
    "\n",
    "# --- Logistic Regression ---\n",
    "lr = LogisticRegression(max_iter=1000)\n",
    "lr.fit(X_train, y_train)\n",
    "preds_lr = lr.predict(X_test)\n",
    "\n",
    "print(\"=== Logistic Regression ===\")\n",
    "print(classification_report(y_test, preds_lr))\n",
    "print(\"Confusion Matrix:\\n\", confusion_matrix(y_test, preds_lr))\n",
    "\n",
    "# --- Multinomial Naïve Bayes ---\n",
    "nb = MultinomialNB()\n",
    "nb.fit(X_train, y_train)\n",
    "preds_nb = nb.predict(X_test)\n",
    "\n",
    "print(\"\\n=== Multinomial Naïve Bayes ===\")\n",
    "print(classification_report(y_test, preds_nb))\n",
    "print(\"Confusion Matrix:\\n\", confusion_matrix(y_test, preds_nb))\n",
    "\n"
   ]
  },
  {
   "cell_type": "code",
   "execution_count": 14,
   "id": "fe0d20d0-7307-4ed2-b760-889754491cd2",
   "metadata": {},
   "outputs": [
    {
     "name": "stdout",
     "output_type": "stream",
     "text": [
      "Sequence train shape: (40000, 100) Label train shape: (40000,)\n",
      "Epoch 1/5\n",
      "\u001b[1m1125/1125\u001b[0m \u001b[32m━━━━━━━━━━━━━━━━━━━━\u001b[0m\u001b[37m\u001b[0m \u001b[1m44s\u001b[0m 38ms/step - accuracy: 0.9527 - loss: 0.1592 - val_accuracy: 1.0000 - val_loss: 3.7594e-05\n",
      "Epoch 2/5\n",
      "\u001b[1m1125/1125\u001b[0m \u001b[32m━━━━━━━━━━━━━━━━━━━━\u001b[0m\u001b[37m\u001b[0m \u001b[1m44s\u001b[0m 39ms/step - accuracy: 1.0000 - loss: 2.0445e-04 - val_accuracy: 1.0000 - val_loss: 4.5783e-05\n",
      "Epoch 3/5\n",
      "\u001b[1m1125/1125\u001b[0m \u001b[32m━━━━━━━━━━━━━━━━━━━━\u001b[0m\u001b[37m\u001b[0m \u001b[1m45s\u001b[0m 40ms/step - accuracy: 1.0000 - loss: 5.1919e-05 - val_accuracy: 1.0000 - val_loss: 9.3853e-06\n",
      "Epoch 4/5\n",
      "\u001b[1m1125/1125\u001b[0m \u001b[32m━━━━━━━━━━━━━━━━━━━━\u001b[0m\u001b[37m\u001b[0m \u001b[1m45s\u001b[0m 40ms/step - accuracy: 1.0000 - loss: 1.3751e-05 - val_accuracy: 1.0000 - val_loss: 4.0151e-06\n",
      "Epoch 5/5\n",
      "\u001b[1m1125/1125\u001b[0m \u001b[32m━━━━━━━━━━━━━━━━━━━━\u001b[0m\u001b[37m\u001b[0m \u001b[1m44s\u001b[0m 39ms/step - accuracy: 1.0000 - loss: 6.1420e-06 - val_accuracy: 1.0000 - val_loss: 2.0234e-06\n",
      "\u001b[1m313/313\u001b[0m \u001b[32m━━━━━━━━━━━━━━━━━━━━\u001b[0m\u001b[37m\u001b[0m \u001b[1m3s\u001b[0m 8ms/step - accuracy: 1.0000 - loss: 2.0010e-06\n",
      "LSTM Test Loss: 0.000, Test Acc: 1.000\n"
     ]
    }
   ],
   "source": [
    "# LSTM Model \n",
    "import numpy as np\n",
    "from sklearn.preprocessing     import LabelEncoder\n",
    "from sklearn.model_selection   import train_test_split\n",
    "from tensorflow.keras.preprocessing.text   import Tokenizer\n",
    "from tensorflow.keras.preprocessing.sequence import pad_sequences\n",
    "from tensorflow.keras.models     import Sequential\n",
    "from tensorflow.keras.layers     import Embedding, LSTM, Dense\n",
    "\n",
    "# 1) Encode string labels to ints\n",
    "le = LabelEncoder()\n",
    "y_enc = le.fit_transform(y_reviews)            # y_reviews from Cell 1\n",
    "\n",
    "# 2) Tokenize & pad your cleaned text\n",
    "tokenizer = Tokenizer(num_words=5000, oov_token=\"<OOV>\")\n",
    "tokenizer.fit_on_texts(df_bike['cleaned_review'])\n",
    "seqs   = tokenizer.texts_to_sequences(df_bike['cleaned_review'])\n",
    "padded = pad_sequences(seqs, maxlen=100)\n",
    "\n",
    "# 3) Split **padded** sequences and **y_enc** together\n",
    "X_seq_train, X_seq_test, y_seq_train, y_seq_test = train_test_split(\n",
    "    padded, \n",
    "    y_enc, \n",
    "    test_size=0.2, \n",
    "    stratify=y_enc, \n",
    "    random_state=42\n",
    ")\n",
    "\n",
    "print(\"Sequence train shape:\", X_seq_train.shape, \"Label train shape:\", y_seq_train.shape)\n",
    "\n",
    "# 4) Build & compile the LSTM\n",
    "model = Sequential([\n",
    "    Embedding(input_dim=5000, output_dim=128),  # drop input_length\n",
    "    LSTM(64, dropout=0.2, recurrent_dropout=0.2),\n",
    "    Dense(len(le.classes_), activation='softmax')\n",
    "])\n",
    "model.compile(\n",
    "    optimizer='adam',\n",
    "    loss='sparse_categorical_crossentropy',\n",
    "    metrics=['accuracy']\n",
    ")\n",
    "\n",
    "# 5) Train\n",
    "history = model.fit(\n",
    "    X_seq_train, \n",
    "    y_seq_train, \n",
    "    validation_split=0.1, \n",
    "    epochs=5,\n",
    "    batch_size=32\n",
    ")\n",
    "\n",
    "# 6) Evaluate\n",
    "loss, acc = model.evaluate(X_seq_test, y_seq_test)\n",
    "print(f\"LSTM Test Loss: {loss:.3f}, Test Acc: {acc:.3f}\")\n",
    "\n"
   ]
  },
  {
   "cell_type": "code",
   "execution_count": null,
   "id": "b7550601-4e38-48fa-b859-4eb17e3dde88",
   "metadata": {},
   "outputs": [],
   "source": [
    "# Task 3: Key Topic Extraction\n",
    "# **Objective:** Identify recurring themes in customer reviews.\n"
   ]
  },
  {
   "cell_type": "code",
   "execution_count": 15,
   "id": "795f0df3-5424-45fe-8c43-4d6307093f03",
   "metadata": {},
   "outputs": [],
   "source": [
    "# Prepare for topic extraction\n",
    "import pandas as pd\n",
    "from gensim.corpora import Dictionary\n",
    "\n",
    "# Reload cleaned reviews (or use df_bike from earlier)\n",
    "df = pd.read_pickle('../data/df_bike_clean.pkl')\n",
    "\n",
    "# Token lists\n",
    "documents = [text.split() for text in df['cleaned_review']]\n",
    "\n",
    "# Build dictionary and filter extremes\n",
    "dictionary = Dictionary(documents)\n",
    "dictionary.filter_extremes(no_below=10, no_above=0.5)\n",
    "\n",
    "# Create the corpus\n",
    "corpus = [dictionary.doc2bow(doc) for doc in documents]\n"
   ]
  },
  {
   "cell_type": "code",
   "execution_count": 16,
   "id": "a612fa8a-47c1-432e-8a21-5cdf753ff783",
   "metadata": {},
   "outputs": [
    {
     "name": "stdout",
     "output_type": "stream",
     "text": [
      "Topic 00: 0.158*\"process\" + 0.128*\"seat\" + 0.128*\"comfort\" + 0.112*\"return\" + 0.051*\"experience\" + 0.049*\"absolutely\" + 0.049*\"fantastic\" + 0.048*\"loved\" + 0.045*\"quality\" + 0.045*\"entire\"\n",
      "Topic 01: 0.112*\"service\" + 0.066*\"rental\" + 0.056*\"bike\" + 0.054*\"extremely\" + 0.054*\"urgent\" + 0.054*\"improvement\" + 0.054*\"need\" + 0.053*\"topnotch\" + 0.053*\"great\" + 0.053*\"made\"\n",
      "Topic 02: 0.205*\"customer\" + 0.197*\"service\" + 0.076*\"fast\" + 0.076*\"friendly\" + 0.076*\"fun\" + 0.076*\"impressive\" + 0.068*\"poor\" + 0.066*\"expensive\" + 0.065*\"quality\" + 0.019*\"rental\"\n",
      "Topic 03: 0.162*\"app\" + 0.162*\"mobile\" + 0.093*\"ride\" + 0.057*\"everything\" + 0.056*\"loved\" + 0.055*\"flawless\" + 0.055*\"booking\" + 0.055*\"fine\" + 0.054*\"rave\" + 0.054*\"wouldnt\"\n",
      "Topic 04: 0.192*\"nothing\" + 0.098*\"great\" + 0.098*\"either\" + 0.098*\"complain\" + 0.098*\"wasnt\" + 0.098*\"went\" + 0.098*\"smoothly\" + 0.098*\"especially\" + 0.021*\"availability\" + 0.020*\"support\"\n",
      "Topic 05: 0.267*\"bike\" + 0.203*\"condition\" + 0.108*\"decent\" + 0.072*\"ride\" + 0.053*\"best\" + 0.052*\"terrible\" + 0.052*\"nightmare\" + 0.050*\"okay\" + 0.021*\"excellent\" + 0.021*\"wonderful\"\n",
      "Topic 06: 0.154*\"life\" + 0.154*\"battery\" + 0.107*\"nothing\" + 0.079*\"rental\" + 0.057*\"okay\" + 0.054*\"wellmaintained\" + 0.054*\"smooth\" + 0.053*\"special\" + 0.052*\"functional\" + 0.052*\"extraordinary\"\n",
      "Topic 07: 0.097*\"experience\" + 0.077*\"rental\" + 0.050*\"ever\" + 0.050*\"ruined\" + 0.050*\"worst\" + 0.050*\"entire\" + 0.049*\"process\" + 0.049*\"worked\" + 0.049*\"average\" + 0.049*\"expected\"\n",
      "Topic 08: 0.123*\"process\" + 0.058*\"wait\" + 0.058*\"long\" + 0.058*\"awful\" + 0.058*\"time\" + 0.057*\"seamless\" + 0.057*\"perfect\" + 0.055*\"major\" + 0.055*\"letdown\" + 0.055*\"worth\"\n",
      "Topic 09: 0.189*\"experience\" + 0.080*\"rental\" + 0.068*\"bike\" + 0.066*\"superb\" + 0.066*\"outstanding\" + 0.066*\"renting\" + 0.062*\"need\" + 0.062*\"replaced\" + 0.062*\"immediately\" + 0.062*\"horrible\"\n"
     ]
    }
   ],
   "source": [
    "# Train LDA and show topics\n",
    "import gensim\n",
    "\n",
    "lda = gensim.models.LdaModel(\n",
    "    corpus=corpus,\n",
    "    id2word=dictionary,\n",
    "    num_topics=10,\n",
    "    passes=5,\n",
    "    random_state=42\n",
    ")\n",
    "\n",
    "# Print top words per topic\n",
    "for i, topic in lda.print_topics():\n",
    "    print(f\"Topic {i:02d}:\", topic)\n"
   ]
  },
  {
   "cell_type": "code",
   "execution_count": 21,
   "id": "d371551b-362e-4af9-b5ed-9edbdacee348",
   "metadata": {},
   "outputs": [
    {
     "data": {
      "text/markdown": [
       "**Topic 00**: process • seat • comfort • return • experience • absolutely • fantastic • loved • quality • entire"
      ],
      "text/plain": [
       "<IPython.core.display.Markdown object>"
      ]
     },
     "metadata": {},
     "output_type": "display_data"
    },
    {
     "data": {
      "text/markdown": [
       "**Topic 01**: service • rental • bike • extremely • urgent • improvement • need • topnotch • great • made"
      ],
      "text/plain": [
       "<IPython.core.display.Markdown object>"
      ]
     },
     "metadata": {},
     "output_type": "display_data"
    },
    {
     "data": {
      "text/markdown": [
       "**Topic 02**: customer • service • fast • friendly • fun • impressive • poor • expensive • quality • rental"
      ],
      "text/plain": [
       "<IPython.core.display.Markdown object>"
      ]
     },
     "metadata": {},
     "output_type": "display_data"
    },
    {
     "data": {
      "text/markdown": [
       "**Topic 03**: app • mobile • ride • everything • loved • flawless • booking • fine • rave • wouldnt"
      ],
      "text/plain": [
       "<IPython.core.display.Markdown object>"
      ]
     },
     "metadata": {},
     "output_type": "display_data"
    },
    {
     "data": {
      "text/markdown": [
       "**Topic 04**: nothing • great • either • complain • wasnt • went • smoothly • especially • availability • support"
      ],
      "text/plain": [
       "<IPython.core.display.Markdown object>"
      ]
     },
     "metadata": {},
     "output_type": "display_data"
    },
    {
     "data": {
      "text/markdown": [
       "**Topic 05**: bike • condition • decent • ride • best • terrible • nightmare • okay • excellent • wonderful"
      ],
      "text/plain": [
       "<IPython.core.display.Markdown object>"
      ]
     },
     "metadata": {},
     "output_type": "display_data"
    },
    {
     "data": {
      "text/markdown": [
       "**Topic 06**: life • battery • nothing • rental • okay • wellmaintained • smooth • special • functional • extraordinary"
      ],
      "text/plain": [
       "<IPython.core.display.Markdown object>"
      ]
     },
     "metadata": {},
     "output_type": "display_data"
    },
    {
     "data": {
      "text/markdown": [
       "**Topic 07**: experience • rental • ever • ruined • worst • entire • process • worked • average • expected"
      ],
      "text/plain": [
       "<IPython.core.display.Markdown object>"
      ]
     },
     "metadata": {},
     "output_type": "display_data"
    },
    {
     "data": {
      "text/markdown": [
       "**Topic 08**: process • wait • long • awful • time • seamless • perfect • major • letdown • worth"
      ],
      "text/plain": [
       "<IPython.core.display.Markdown object>"
      ]
     },
     "metadata": {},
     "output_type": "display_data"
    },
    {
     "data": {
      "text/markdown": [
       "**Topic 09**: experience • rental • bike • superb • outstanding • renting • need • replaced • immediately • horrible"
      ],
      "text/plain": [
       "<IPython.core.display.Markdown object>"
      ]
     },
     "metadata": {},
     "output_type": "display_data"
    }
   ],
   "source": [
    "from IPython.display import Markdown, display\n",
    "\n",
    "\n",
    "for idx, row in df_topics.iterrows():\n",
    "    md = f\"**Topic {idx}**: \" + \" • \".join(row[\"Top Words\"].split(\", \"))\n",
    "    display(Markdown(md))\n"
   ]
  },
  {
   "cell_type": "code",
   "execution_count": 17,
   "id": "dd0b9714-93df-4bec-9711-40062c589e2e",
   "metadata": {},
   "outputs": [],
   "source": [
    "topic_per_review = [max(lda.get_document_topics(bow), key=lambda x: x[1])[0]\n",
    "                    for bow in corpus]\n",
    "df['dominant_topic'] = topic_per_review\n"
   ]
  },
  {
   "cell_type": "code",
   "execution_count": 18,
   "id": "7bedcdd5-6ebd-423a-9c0f-e56aabc0dd40",
   "metadata": {},
   "outputs": [
    {
     "data": {
      "text/plain": [
       "dominant_topic\n",
       "0    0.08534\n",
       "1    0.10020\n",
       "2    0.06928\n",
       "3    0.09514\n",
       "4    0.06534\n",
       "5    0.10854\n",
       "6    0.11668\n",
       "7    0.12854\n",
       "8    0.13118\n",
       "9    0.09976\n",
       "Name: proportion, dtype: float64"
      ]
     },
     "execution_count": 18,
     "metadata": {},
     "output_type": "execute_result"
    }
   ],
   "source": [
    "df['dominant_topic'].value_counts(normalize=True).sort_index()  \n"
   ]
  },
  {
   "cell_type": "markdown",
   "id": "4431584f-3209-485a-9b14-28ce46ece944",
   "metadata": {},
   "source": [
    "## Key Insights\n",
    "### Most common themes\n",
    "\n",
    " - Topic 08 (Wait Times & Process Frustrations): ~13.1% of reviews\n",
    "\n",
    " - Topic 07 (Extremes of Rental Experience): ~12.9%\n",
    "\n",
    " - Topic 06 (Battery Life & Maintenance): ~11.7%\n",
    "\n",
    " - Least common themes\n",
    "\n",
    " - Topic 04 (Smooth Operations / No Complaints): ~6.5%\n",
    "\n",
    " - Topic 02 (Customer Service Quality): ~6.9%"
   ]
  }
 ],
 "metadata": {
  "kernelspec": {
   "display_name": "Python 3 (ipykernel)",
   "language": "python",
   "name": "python3"
  },
  "language_info": {
   "codemirror_mode": {
    "name": "ipython",
    "version": 3
   },
   "file_extension": ".py",
   "mimetype": "text/x-python",
   "name": "python",
   "nbconvert_exporter": "python",
   "pygments_lexer": "ipython3",
   "version": "3.11.13"
  }
 },
 "nbformat": 4,
 "nbformat_minor": 5
}
