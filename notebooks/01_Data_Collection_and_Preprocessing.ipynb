{
 "cells": [
  {
   "cell_type": "code",
   "execution_count": 1,
   "id": "2726d701-9718-4d72-8097-4a398a14a546",
   "metadata": {},
   "outputs": [
    {
     "name": "stdout",
     "output_type": "stream",
     "text": [
      "Working dir: /Users/sheilamcgovern/Desktop/Projects2025/incremental_capstone_unit5/notebooks\n",
      "Files here: ['02_Sentiment_Analysis.ipynb', '.ipynb_checkpoints', '01_Data_Collection_and_Preprocessing.ipynb']\n",
      "Bike shape: (50000, 2)\n"
     ]
    },
    {
     "data": {
      "text/html": [
       "<div>\n",
       "<style scoped>\n",
       "    .dataframe tbody tr th:only-of-type {\n",
       "        vertical-align: middle;\n",
       "    }\n",
       "\n",
       "    .dataframe tbody tr th {\n",
       "        vertical-align: top;\n",
       "    }\n",
       "\n",
       "    .dataframe thead th {\n",
       "        text-align: right;\n",
       "    }\n",
       "</style>\n",
       "<table border=\"1\" class=\"dataframe\">\n",
       "  <thead>\n",
       "    <tr style=\"text-align: right;\">\n",
       "      <th></th>\n",
       "      <th>review_text</th>\n",
       "      <th>sentiment</th>\n",
       "    </tr>\n",
       "  </thead>\n",
       "  <tbody>\n",
       "    <tr>\n",
       "      <th>0</th>\n",
       "      <td>The entire process was easy, and the availabil...</td>\n",
       "      <td>positive</td>\n",
       "    </tr>\n",
       "    <tr>\n",
       "      <th>1</th>\n",
       "      <td>Standard rental process. The mobile app was ac...</td>\n",
       "      <td>neutral</td>\n",
       "    </tr>\n",
       "    <tr>\n",
       "      <th>2</th>\n",
       "      <td>One of the best bike rentals Iâve had. The m...</td>\n",
       "      <td>positive</td>\n",
       "    </tr>\n",
       "    <tr>\n",
       "      <th>3</th>\n",
       "      <td>One of the best bike rentals Iâve had. The c...</td>\n",
       "      <td>positive</td>\n",
       "    </tr>\n",
       "    <tr>\n",
       "      <th>4</th>\n",
       "      <td>Not worth the money. The seat comfort was a ma...</td>\n",
       "      <td>negative</td>\n",
       "    </tr>\n",
       "  </tbody>\n",
       "</table>\n",
       "</div>"
      ],
      "text/plain": [
       "                                         review_text sentiment\n",
       "0  The entire process was easy, and the availabil...  positive\n",
       "1  Standard rental process. The mobile app was ac...   neutral\n",
       "2  One of the best bike rentals Iâve had. The m...  positive\n",
       "3  One of the best bike rentals Iâve had. The c...  positive\n",
       "4  Not worth the money. The seat comfort was a ma...  negative"
      ]
     },
     "metadata": {},
     "output_type": "display_data"
    }
   ],
   "source": [
    "# Load & check bike data\n",
    "import os\n",
    "import pandas as pd\n",
    "from IPython.display import displayfghyuiop\n",
    "\n",
    "import os\n",
    "print(\"Working dir:\", os.getcwd())\n",
    "print(\"Files here:\", os.listdir())\n",
    "\n",
    "\n",
    "# Load the bike reviews CSV\n",
    "df_bike = pd.read_csv('../data/bike_rental_reviews.csv', encoding='latin-1')\n",
    "\n",
    "\n",
    "# Confirm shape and look at first rows\n",
    "print(\"Bike shape:\", df_bike.shape)\n",
    "display(df_bike.head())\n",
    "\n",
    "\n",
    "\n"
   ]
  },
  {
   "cell_type": "code",
   "execution_count": 2,
   "id": "7636d67f-87ff-46d8-8911-ffd88394ee46",
   "metadata": {},
   "outputs": [
    {
     "name": "stdout",
     "output_type": "stream",
     "text": [
      "\n",
      "=== BIKE REVIEWS ===\n",
      "<class 'pandas.core.frame.DataFrame'>\n",
      "RangeIndex: 50000 entries, 0 to 49999\n",
      "Data columns (total 2 columns):\n",
      " #   Column       Non-Null Count  Dtype \n",
      "---  ------       --------------  ----- \n",
      " 0   review_text  50000 non-null  object\n",
      " 1   sentiment    50000 non-null  object\n",
      "dtypes: object(2)\n",
      "memory usage: 781.4+ KB\n",
      "\n",
      "Missing values per column (bike):\n",
      "review_text    0\n",
      "sentiment      0\n",
      "dtype: int64\n"
     ]
    }
   ],
   "source": [
    "# Inspect structure & missingness\n",
    "\n",
    "\n",
    "print(\"\\n=== BIKE REVIEWS ===\")\n",
    "df_bike.info()\n",
    "print(\"\\nMissing values per column (bike):\")\n",
    "print(df_bike.isna().sum())\n"
   ]
  },
  {
   "cell_type": "code",
   "execution_count": 3,
   "id": "6964151a-e46f-4503-9b69-6f2a57d0e728",
   "metadata": {},
   "outputs": [
    {
     "name": "stdout",
     "output_type": "stream",
     "text": [
      "\n",
      "Bike review lengths:\n",
      " count    50000.000000\n",
      "mean        59.912660\n",
      "std          9.601791\n",
      "min         37.000000\n",
      "25%         53.000000\n",
      "50%         60.000000\n",
      "75%         67.000000\n",
      "max         82.000000\n",
      "Name: review_length, dtype: float64\n"
     ]
    }
   ],
   "source": [
    "\n",
    "\n",
    "# Bike dataset\n",
    "df_bike['review_length'] = df_bike['review_text'].str.len()\n",
    "\n",
    "\n",
    "print(\"\\nBike review lengths:\\n\", df_bike['review_length'].describe())\n",
    "\n"
   ]
  },
  {
   "cell_type": "code",
   "execution_count": 4,
   "id": "f24e190e-ae05-4965-8d3f-2066c44c0368",
   "metadata": {},
   "outputs": [
    {
     "data": {
      "image/png": "[encoded data removed]",
      "text/plain": [
       "<Figure size 600x400 with 1 Axes>"
      ]
     },
     "metadata": {},
     "output_type": "display_data"
    }
   ],
   "source": [
    "# Plot length distributions\n",
    "import matplotlib.pyplot as plt\n",
    "\n",
    "\n",
    "plt.figure(figsize=(6,4))\n",
    "plt.hist(df_bike['review_length'], bins=30, alpha=0.7)\n",
    "plt.title('Bike Review Length Distribution')\n",
    "plt.xlabel('Characters')\n",
    "plt.ylabel('Frequency')\n",
    "plt.show()\n"
   ]
  },
  {
   "cell_type": "code",
   "execution_count": 5,
   "id": "400940b7-d8cb-42b1-a43a-a4948664dfdd",
   "metadata": {},
   "outputs": [
    {
     "name": "stderr",
     "output_type": "stream",
     "text": [
      "[nltk_data] Downloading package stopwords to\n",
      "[nltk_data]     /Users/sheilamcgovern/nltk_data...\n",
      "[nltk_data]   Package stopwords is already up-to-date!\n",
      "[nltk_data] Downloading package wordnet to\n",
      "[nltk_data]     /Users/sheilamcgovern/nltk_data...\n",
      "[nltk_data]   Package wordnet is already up-to-date!\n",
      "[nltk_data] Downloading package omw-1.4 to\n",
      "[nltk_data]     /Users/sheilamcgovern/nltk_data...\n",
      "[nltk_data]   Package omw-1.4 is already up-to-date!\n"
     ]
    }
   ],
   "source": [
    "import nltk\n",
    "\n",
    "nltk.download('stopwords')\n",
    "nltk.download('wordnet')\n",
    "nltk.download('omw-1.4')\n",
    "\n"
   ]
  },
  {
   "cell_type": "code",
   "execution_count": 10,
   "id": "6c31f868-d928-4b69-bb6c-b859b5c5e7b5",
   "metadata": {},
   "outputs": [
    {
     "data": {
      "text/html": [
       "<div>\n",
       "<style scoped>\n",
       "    .dataframe tbody tr th:only-of-type {\n",
       "        vertical-align: middle;\n",
       "    }\n",
       "\n",
       "    .dataframe tbody tr th {\n",
       "        vertical-align: top;\n",
       "    }\n",
       "\n",
       "    .dataframe thead th {\n",
       "        text-align: right;\n",
       "    }\n",
       "</style>\n",
       "<table border=\"1\" class=\"dataframe\">\n",
       "  <thead>\n",
       "    <tr style=\"text-align: right;\">\n",
       "      <th></th>\n",
       "      <th>review_text</th>\n",
       "      <th>cleaned_review</th>\n",
       "    </tr>\n",
       "  </thead>\n",
       "  <tbody>\n",
       "    <tr>\n",
       "      <th>0</th>\n",
       "      <td>The entire process was easy, and the availabil...</td>\n",
       "      <td>entire process easy availability high quality</td>\n",
       "    </tr>\n",
       "    <tr>\n",
       "      <th>1</th>\n",
       "      <td>Standard rental process. The mobile app was ac...</td>\n",
       "      <td>standard rental process mobile app acceptable</td>\n",
       "    </tr>\n",
       "    <tr>\n",
       "      <th>2</th>\n",
       "      <td>One of the best bike rentals Iâve had. The m...</td>\n",
       "      <td>one best bike rental ive mobile app made even ...</td>\n",
       "    </tr>\n",
       "    <tr>\n",
       "      <th>3</th>\n",
       "      <td>One of the best bike rentals Iâve had. The c...</td>\n",
       "      <td>one best bike rental ive customer service made...</td>\n",
       "    </tr>\n",
       "    <tr>\n",
       "      <th>4</th>\n",
       "      <td>Not worth the money. The seat comfort was a ma...</td>\n",
       "      <td>worth money seat comfort major letdown</td>\n",
       "    </tr>\n",
       "  </tbody>\n",
       "</table>\n",
       "</div>"
      ],
      "text/plain": [
       "                                         review_text  \\\n",
       "0  The entire process was easy, and the availabil...   \n",
       "1  Standard rental process. The mobile app was ac...   \n",
       "2  One of the best bike rentals Iâve had. The m...   \n",
       "3  One of the best bike rentals Iâve had. The c...   \n",
       "4  Not worth the money. The seat comfort was a ma...   \n",
       "\n",
       "                                      cleaned_review  \n",
       "0      entire process easy availability high quality  \n",
       "1      standard rental process mobile app acceptable  \n",
       "2  one best bike rental ive mobile app made even ...  \n",
       "3  one best bike rental ive customer service made...  \n",
       "4             worth money seat comfort major letdown  "
      ]
     },
     "metadata": {},
     "output_type": "display_data"
    }
   ],
   "source": [
    "# Define & apply clean_text()\n",
    "import re\n",
    "from nltk.corpus       import stopwords\n",
    "from nltk.stem         import WordNetLemmatizer\n",
    "\n",
    "stop_words = set(stopwords.words('english'))\n",
    "lemmatizer = WordNetLemmatizer()\n",
    "\n",
    "def clean_text(text: str) -> str:\n",
    "    text = text.lower()\n",
    "    text = re.sub(r'[^a-z0-9\\s]', '', text)\n",
    "    tokens = text.split()\n",
    "    return \" \".join(lemmatizer.lemmatize(t) for t in tokens if t not in stop_words)\n",
    "\n",
    "# Apply to create a new column\n",
    "df_bike['cleaned_review'] = df_bike['review_text'].astype(str).apply(clean_text)\n",
    "\n",
    "# Quick sanity‐check\n",
    "display(df_bike[['review_text','cleaned_review']].head())\n"
   ]
  },
  {
   "cell_type": "code",
   "execution_count": 6,
   "id": "15d00430-edff-41c7-8a5e-002d0f0bd9bb",
   "metadata": {},
   "outputs": [
    {
     "data": {
      "text/html": [
       "<div>\n",
       "<style scoped>\n",
       "    .dataframe tbody tr th:only-of-type {\n",
       "        vertical-align: middle;\n",
       "    }\n",
       "\n",
       "    .dataframe tbody tr th {\n",
       "        vertical-align: top;\n",
       "    }\n",
       "\n",
       "    .dataframe thead th {\n",
       "        text-align: right;\n",
       "    }\n",
       "</style>\n",
       "<table border=\"1\" class=\"dataframe\">\n",
       "  <thead>\n",
       "    <tr style=\"text-align: right;\">\n",
       "      <th></th>\n",
       "      <th>review_text</th>\n",
       "      <th>cleaned_review</th>\n",
       "    </tr>\n",
       "  </thead>\n",
       "  <tbody>\n",
       "    <tr>\n",
       "      <th>0</th>\n",
       "      <td>The entire process was easy, and the availabil...</td>\n",
       "      <td>entire process easy availability high quality</td>\n",
       "    </tr>\n",
       "    <tr>\n",
       "      <th>1</th>\n",
       "      <td>Standard rental process. The mobile app was ac...</td>\n",
       "      <td>standard rental process mobile app acceptable</td>\n",
       "    </tr>\n",
       "    <tr>\n",
       "      <th>2</th>\n",
       "      <td>One of the best bike rentals Iâve had. The m...</td>\n",
       "      <td>one best bike rental ive mobile app made even ...</td>\n",
       "    </tr>\n",
       "    <tr>\n",
       "      <th>3</th>\n",
       "      <td>One of the best bike rentals Iâve had. The c...</td>\n",
       "      <td>one best bike rental ive customer service made...</td>\n",
       "    </tr>\n",
       "    <tr>\n",
       "      <th>4</th>\n",
       "      <td>Not worth the money. The seat comfort was a ma...</td>\n",
       "      <td>worth money seat comfort major letdown</td>\n",
       "    </tr>\n",
       "  </tbody>\n",
       "</table>\n",
       "</div>"
      ],
      "text/plain": [
       "                                         review_text  \\\n",
       "0  The entire process was easy, and the availabil...   \n",
       "1  Standard rental process. The mobile app was ac...   \n",
       "2  One of the best bike rentals Iâve had. The m...   \n",
       "3  One of the best bike rentals Iâve had. The c...   \n",
       "4  Not worth the money. The seat comfort was a ma...   \n",
       "\n",
       "                                      cleaned_review  \n",
       "0      entire process easy availability high quality  \n",
       "1      standard rental process mobile app acceptable  \n",
       "2  one best bike rental ive mobile app made even ...  \n",
       "3  one best bike rental ive customer service made...  \n",
       "4             worth money seat comfort major letdown  "
      ]
     },
     "metadata": {},
     "output_type": "display_data"
    }
   ],
   "source": [
    "\n",
    "df_bike['cleaned_review'] = df_bike['review_text'].apply(clean_text)\n",
    "\n",
    "# cleaned output\n",
    "\n",
    "display(df_bike[['review_text','cleaned_review']].head())"
   ]
  },
  {
   "cell_type": "code",
   "execution_count": 11,
   "id": "87a5fab9-5af3-44d7-a6e9-7f91a7f64d93",
   "metadata": {},
   "outputs": [
    {
     "name": "stdout",
     "output_type": "stream",
     "text": [
      "X_reviews shape: (50000, 115)\n",
      "Sample features: ['absolutely' 'acceptable' 'app' 'availability' 'average' 'awful'\n",
      " 'battery' 'beach' 'best' 'better']\n"
     ]
    }
   ],
   "source": [
    "# TF–IDF Vectorization\n",
    "from sklearn.feature_extraction.text import TfidfVectorizer\n",
    "\n",
    "vectorizer = TfidfVectorizer(\n",
    "    max_features=5_000, \n",
    "    ngram_range=(1,1)    # you can experiment with (1,2) later\n",
    ")\n",
    "X_reviews = vectorizer.fit_transform(df_bike['cleaned_review'])\n",
    "y_reviews = df_bike['sentiment']\n",
    "\n",
    "print(\"X_reviews shape:\", X_reviews.shape)\n",
    "print(\"Sample features:\", vectorizer.get_feature_names_out()[:10])\n",
    "\n"
   ]
  },
  {
   "cell_type": "code",
   "execution_count": 12,
   "id": "61dd387b-72be-493d-bd89-9de2133df1df",
   "metadata": {},
   "outputs": [
    {
     "name": "stdout",
     "output_type": "stream",
     "text": [
      "Saved cleaned data and TF–IDF artifacts to ../data/\n"
     ]
    }
   ],
   "source": [
    "# Save cleaned data & vectorizer\n",
    "import pickle\n",
    "\n",
    "with open('../data/df_bike_clean.pkl',    'wb') as f: pickle.dump(df_bike,      f)\n",
    "with open('../data/X_reviews.pkl',        'wb') as f: pickle.dump(X_reviews,    f)\n",
    "with open('../data/y_reviews.pkl',        'wb') as f: pickle.dump(y_reviews,    f)\n",
    "with open('../data/vectorizer.pkl',       'wb') as f: pickle.dump(vectorizer,   f)\n",
    "\n",
    "print(\"Saved cleaned data and TF–IDF artifacts to ../data/\")\n",
    "\n"
   ]
  },
  {
   "cell_type": "code",
   "execution_count": null,
   "id": "f3e4fa01-4f1d-4f0c-9b90-b20bd1b793df",
   "metadata": {},
   "outputs": [],
   "source": []
  }
 ],
 "metadata": {
  "kernelspec": {
   "display_name": "Python 3 (ipykernel)",
   "language": "python",
   "name": "python3"
  },
  "language_info": {
   "codemirror_mode": {
    "name": "ipython",
    "version": 3
   },
   "file_extension": ".py",
   "mimetype": "text/x-python",
   "name": "python",
   "nbconvert_exporter": "python",
   "pygments_lexer": "ipython3",
   "version": "3.11.13"
  }
 },
 "nbformat": 4,
 "nbformat_minor": 5
}
